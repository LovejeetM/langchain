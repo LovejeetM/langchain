{
 "cells": [
  {
   "cell_type": "markdown",
   "id": "5c4e41d3",
   "metadata": {},
   "source": [
    "# gpt-oss 20b"
   ]
  },
  {
   "cell_type": "code",
   "execution_count": null,
   "id": "44c9ee3a",
   "metadata": {},
   "outputs": [],
   "source": [
    "!pip install -q --upgrade torch"
   ]
  },
  {
   "cell_type": "code",
   "execution_count": null,
   "id": "b1f2991c",
   "metadata": {},
   "outputs": [],
   "source": [
    "!pip install -q transformers triton==3.4 kernels"
   ]
  },
  {
   "cell_type": "code",
   "execution_count": null,
   "id": "3e8f3061",
   "metadata": {},
   "outputs": [],
   "source": [
    "!pip uninstall -q torchvision torchaudio -y"
   ]
  },
  {
   "cell_type": "code",
   "execution_count": null,
   "id": "b5638c6a",
   "metadata": {},
   "outputs": [],
   "source": [
    "# Restart session   ###imp"
   ]
  },
  {
   "cell_type": "code",
   "execution_count": null,
   "id": "7795601e",
   "metadata": {},
   "outputs": [],
   "source": [
    "from transformers import AutoModelForCausalLM, AutoTokenizer\n",
    "\n",
    "model_id = \"openai/gpt-oss-20b\"\n",
    "\n",
    "tokenizer = AutoTokenizer.from_pretrained(model_id)\n",
    "model = AutoModelForCausalLM.from_pretrained(\n",
    "    model_id,\n",
    "    torch_dtype=\"auto\",\n",
    "    device_map=\"cuda\",\n",
    ")\n"
   ]
  },
  {
   "cell_type": "code",
   "execution_count": null,
   "id": "8eeaa09d",
   "metadata": {},
   "outputs": [],
   "source": [
    "messages = [\n",
    "    {\"role\": \"system\", \"content\": \"Respond in less than 100 words\"},\n",
    "    {\"role\": \"user\", \"content\": \"Explain mythical oasis\"},\n",
    "]\n",
    "\n",
    "inputs = tokenizer.apply_chat_template(\n",
    "    messages,\n",
    "    add_generation_prompt=True,\n",
    "    return_tensors=\"pt\",\n",
    "    return_dict=True,\n",
    "    reasoning_effort=\"medium\",\n",
    ").to(model.device)\n",
    "\n",
    "generated = model.generate(**inputs, max_new_tokens=200)\n",
    "print(tokenizer.decode(generated[0][inputs[\"input_ids\"].shape[-1]:]))"
   ]
  }
 ],
 "metadata": {
  "language_info": {
   "name": "python"
  }
 },
 "nbformat": 4,
 "nbformat_minor": 5
}
